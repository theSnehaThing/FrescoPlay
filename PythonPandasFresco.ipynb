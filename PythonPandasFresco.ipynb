{
  "nbformat": 4,
  "nbformat_minor": 0,
  "metadata": {
    "colab": {
      "name": "PythonPandasFresco.ipynb",
      "provenance": [],
      "collapsed_sections": [],
      "authorship_tag": "ABX9TyPZa9MQBdAffFrAfHJyx1mo",
      "include_colab_link": true
    },
    "kernelspec": {
      "name": "python3",
      "display_name": "Python 3"
    }
  },
  "cells": [
    {
      "cell_type": "markdown",
      "metadata": {
        "id": "view-in-github",
        "colab_type": "text"
      },
      "source": [
        "<a href=\"https://colab.research.google.com/github/theSnehaThing/FrescoPlay/blob/master/PythonPandasFresco.ipynb\" target=\"_parent\"><img src=\"https://colab.research.google.com/assets/colab-badge.svg\" alt=\"Open In Colab\"/></a>"
      ]
    },
    {
      "cell_type": "markdown",
      "metadata": {
        "id": "7C6AL_6RuGp_",
        "colab_type": "text"
      },
      "source": [
        "Python Pandas | 1 | Data Structures in Pandas\n"
      ]
    },
    {
      "cell_type": "code",
      "metadata": {
        "id": "nOWfjmMEoz2H",
        "colab_type": "code",
        "colab": {
          "base_uri": "https://localhost:8080/",
          "height": 102
        },
        "outputId": "32d5b9ac-a993-44c8-b994-fc4160c1234e"
      },
      "source": [
        "import pandas as pd\n",
        "heights_list = [176.2, 158.4, 167.6, 156.2, 161.4]\n",
        "students_index = ['s1', 's2', 's3', 's4', 's5']\n",
        "heights_A = pd.Series(heights_list, index = students_index)\n",
        "print(heights_A.shape)\n"
      ],
      "execution_count": null,
      "outputs": [
        {
          "output_type": "stream",
          "text": [
            "(5,)\n",
            "s2    158.4\n",
            "s3    167.6\n",
            "s4    156.2\n",
            "dtype: float64\n"
          ],
          "name": "stdout"
        }
      ]
    },
    {
      "cell_type": "code",
      "metadata": {
        "id": "_xES-oV6pivw",
        "colab_type": "code",
        "colab": {
          "base_uri": "https://localhost:8080/",
          "height": 34
        },
        "outputId": "8b9045de-110b-43b5-c2b1-fd8bef8c3cce"
      },
      "source": [
        "weights_list = [85.1, 90.2, 76.8, 80.4, 78.9]\n",
        "weights_A = pd.Series(weights_list, index = students_index)\n",
        "print(weights_A.dtype)"
      ],
      "execution_count": null,
      "outputs": [
        {
          "output_type": "stream",
          "text": [
            "float64\n"
          ],
          "name": "stdout"
        }
      ]
    },
    {
      "cell_type": "code",
      "metadata": {
        "id": "TZ17nZkqp5yC",
        "colab_type": "code",
        "colab": {
          "base_uri": "https://localhost:8080/",
          "height": 68
        },
        "outputId": "93240e2b-5774-4c7c-8b78-99c9b092535c"
      },
      "source": [
        "\n",
        "data_A = {'Student_height' : heights_A,\n",
        "        'Student_weight' :weights_A}\n",
        "df_A = pd.DataFrame(data_A)\n",
        "#print(df_A)\n",
        "#heights = (df_A.iloc[:,0]).values\n",
        "heights = df_A['Student_height']\n",
        "#print(type(heights))\n",
        "\n",
        "df_s1s2 = df_A.loc[['s1','s2']]\n",
        "#print(df_s1s2)\n",
        "df_s2s5s1 = df_A.loc[['s2','s5','s1']]\n",
        "#print(df_s2s5s1)\n",
        "df_s1s4 = df_A.loc[(df_A.index.str.endswith('1') | df_A.index.str.endswith('4'))]\n",
        "print(df_s1s4)"
      ],
      "execution_count": null,
      "outputs": [
        {
          "output_type": "stream",
          "text": [
            "    Student_height  Student_weight\n",
            "s1           176.2            85.1\n",
            "s4           156.2            80.4\n"
          ],
          "name": "stdout"
        }
      ]
    },
    {
      "cell_type": "code",
      "metadata": {
        "id": "EnY85Cs_xlO1",
        "colab_type": "code",
        "colab": {
          "base_uri": "https://localhost:8080/",
          "height": 34
        },
        "outputId": "bdf09705-1200-44a0-8994-a90e9462fdae"
      },
      "source": [
        "import numpy as np\n",
        "np.random.seed(100)\n",
        "my_std_heights = 25.0\n",
        "my_mean_heights = 170.0 \n",
        "x = my_std_heights * np.random.randn(5) + my_mean_heights\n",
        "heights_B = pd.Series(x, index = students_index)\n",
        "my_std_weights = 12.0\n",
        "my_mean_weights = 75.0 \n",
        "y = my_std_weights * np.random.randn(5) + my_mean_weights\n",
        "weights_B = pd.Series(y, index = students_index)\n",
        "print(heights_B.mean())\n"
      ],
      "execution_count": null,
      "outputs": [
        {
          "output_type": "stream",
          "text": [
            "172.37417741633146\n"
          ],
          "name": "stdout"
        }
      ]
    },
    {
      "cell_type": "code",
      "metadata": {
        "id": "tD_J26lCzvsH",
        "colab_type": "code",
        "colab": {
          "base_uri": "https://localhost:8080/",
          "height": 34
        },
        "outputId": "05d22472-10b4-4bb0-d99d-ad2da75bc101"
      },
      "source": [
        "data_B = {'Student_height' : heights_B,\n",
        "        'Student_weight' : weights_B}\n",
        "df_B = pd.DataFrame(data_B)\n",
        "print(df_B.columns)"
      ],
      "execution_count": null,
      "outputs": [
        {
          "output_type": "stream",
          "text": [
            "Index(['Student_height', 'Student_weight'], dtype='object')\n"
          ],
          "name": "stdout"
        }
      ]
    },
    {
      "cell_type": "code",
      "metadata": {
        "id": "OftLgB5p0IaV",
        "colab_type": "code",
        "colab": {}
      },
      "source": [
        "data_p = {'Class_A': df_A,\n",
        "          'Class_B': df_B}\n",
        "#p = pd.Panel.from_dict(data_p)\n",
        "#print(p.shape)"
      ],
      "execution_count": null,
      "outputs": []
    },
    {
      "cell_type": "markdown",
      "metadata": {
        "id": "a1DtdkBV3RKf",
        "colab_type": "text"
      },
      "source": [
        "Python Pandas | 2 | Accessing Pandas Data Structures"
      ]
    },
    {
      "cell_type": "code",
      "metadata": {
        "id": "0r7Zncgb3TsZ",
        "colab_type": "code",
        "colab": {
          "base_uri": "https://localhost:8080/",
          "height": 34
        },
        "outputId": "99ec99d8-2872-4f11-dd04-207baea56074"
      },
      "source": [
        "print(heights_A[1:4])\n",
        "#heights = (df_A.iloc[:,0]).values\n",
        "heights = df_A['Student_height']\n",
        "#print(type(heights))\n",
        "\n",
        "df_s1s2 = df_A.loc[['s1','s2']]\n",
        "#print(df_s1s2)\n",
        "df_s2s5s1 = df_A.loc[['s2','s5','s1']]\n",
        "#print(df_s2s5s1)\n",
        "df_s1s4 = df_A.loc[(df_A.index.str.endswith('1') | df_A.index.str.endswith('4'))]\n",
        "print(df_s1s4)"
      ],
      "execution_count": null,
      "outputs": [
        {
          "output_type": "stream",
          "text": [
            "158.4\n"
          ],
          "name": "stdout"
        }
      ]
    },
    {
      "cell_type": "markdown",
      "metadata": {
        "id": "eDwUuOls4CJM",
        "colab_type": "text"
      },
      "source": [
        "Data Aggregation - Handson"
      ]
    },
    {
      "cell_type": "code",
      "metadata": {
        "id": "nXclkp_Z4SyA",
        "colab_type": "code",
        "colab": {}
      },
      "source": [
        ""
      ],
      "execution_count": null,
      "outputs": []
    },
    {
      "cell_type": "markdown",
      "metadata": {
        "id": "Xqi07l-74Cyw",
        "colab_type": "text"
      },
      "source": [
        "Data Cleaning - Handson"
      ]
    },
    {
      "cell_type": "code",
      "metadata": {
        "id": "MDoxsLrA4Tmz",
        "colab_type": "code",
        "colab": {}
      },
      "source": [
        ""
      ],
      "execution_count": null,
      "outputs": []
    },
    {
      "cell_type": "markdown",
      "metadata": {
        "id": "JfjuXpEp4FT_",
        "colab_type": "text"
      },
      "source": [
        "Hands-on with Indexes"
      ]
    },
    {
      "cell_type": "code",
      "metadata": {
        "id": "4y-Y2HQu4UPT",
        "colab_type": "code",
        "colab": {}
      },
      "source": [
        ""
      ],
      "execution_count": null,
      "outputs": []
    },
    {
      "cell_type": "markdown",
      "metadata": {
        "id": "JIH3O1UJ4HPe",
        "colab_type": "text"
      },
      "source": [
        "Working with CSVs"
      ]
    },
    {
      "cell_type": "code",
      "metadata": {
        "id": "zp2ulzGs4VIY",
        "colab_type": "code",
        "colab": {}
      },
      "source": [
        ""
      ],
      "execution_count": null,
      "outputs": []
    },
    {
      "cell_type": "markdown",
      "metadata": {
        "id": "yX9FCVWh4KuP",
        "colab_type": "text"
      },
      "source": [
        "Data Merge - Hands-on 2"
      ]
    },
    {
      "cell_type": "code",
      "metadata": {
        "id": "FrjHUKum4WUi",
        "colab_type": "code",
        "colab": {}
      },
      "source": [
        ""
      ],
      "execution_count": null,
      "outputs": []
    },
    {
      "cell_type": "markdown",
      "metadata": {
        "id": "MeggCOdv4NZj",
        "colab_type": "text"
      },
      "source": [
        "Data Merge - Hands-on 1"
      ]
    },
    {
      "cell_type": "code",
      "metadata": {
        "id": "sCQcrDzK4XDp",
        "colab_type": "code",
        "colab": {}
      },
      "source": [
        ""
      ],
      "execution_count": null,
      "outputs": []
    }
  ]
}